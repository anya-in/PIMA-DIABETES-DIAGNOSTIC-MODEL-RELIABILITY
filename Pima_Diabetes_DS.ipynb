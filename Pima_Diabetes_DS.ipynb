{
  "nbformat": 4,
  "nbformat_minor": 0,
  "metadata": {
    "colab": {
      "provenance": []
    },
    "kernelspec": {
      "name": "python3",
      "display_name": "Python 3"
    },
    "language_info": {
      "name": "python"
    }
  },
  "cells": [
    {
      "cell_type": "markdown",
      "source": [
        "# Problem Statement"
      ],
      "metadata": {
        "id": "DTyT0bK0gyD5"
      }
    },
    {
      "cell_type": "markdown",
      "source": [
        "\n",
        "In this project, you are provided with two subsets derived from the Pima Indians Diabetes Dataset to simulate repeated diagnostic test results under consistent conditions. The goal is to assess not only how well a model predicts diabetes outcomes, but also whether its predictions remain stable across repeated tests, an essential requirement in clinical diagnostics.\n",
        "\n",
        "You are expected to evaluate the model’s discriminative performance using ROC curves and AUC, and then assess diagnostic agreement using different plots between the predicted values from both datasets. This dual-dataset approach mimics real-world test-retest scenarios, allowing you to analyze both performance and reliability.\n",
        "\n",
        "Your deliverables should include:\n",
        "\n",
        "* Well-structured Python scripts or notebooks\n",
        "* Visualizations of Plots\n",
        "* Insightful interpretations that focus on stability and clinical relevance\n",
        "* A short discussion of any anomalies or limitations observed"
      ],
      "metadata": {
        "id": "1JeqoItYg5-0"
      }
    },
    {
      "cell_type": "markdown",
      "source": [
        "This project evaluates the reliability and consistency of a diagnostic test for diabetes using the Pima Indians Diabetes Dataset. Traditional classification metrics often overlook measurement agreement across repeated tests, which is critical in clinical settings. By implementing ROC analysis, agreement measures like intraclass correlation (ICC), and Bland-Altman plots, the project aims to assess not just performance but diagnostic stability, offering a better understanding of model reliability over time."
      ],
      "metadata": {
        "id": "otWNiMDlf472"
      }
    },
    {
      "cell_type": "markdown",
      "source": [
        "#  Step 1: Load the Dataset\n",
        "\n"
      ],
      "metadata": {
        "id": "VHPYnth3y0yu"
      }
    },
    {
      "cell_type": "markdown",
      "source": [
        "I have used the Pima Indians Diabetes Dataset, a classic medical diagnostic dataset. Each row is a patient, and the task is to predict whether they have diabetes based on diagnostic features like glucose level, BMI, insulin, etc."
      ],
      "metadata": {
        "id": "AvvpIN14y6Ea"
      }
    },
    {
      "cell_type": "code",
      "source": [
        "!pip install pingouin"
      ],
      "metadata": {
        "colab": {
          "base_uri": "https://localhost:8080/"
        },
        "id": "J_XvNiATnN-L",
        "outputId": "1825b38c-173f-4f7a-df59-065ad51d8da8"
      },
      "execution_count": 7,
      "outputs": [
        {
          "output_type": "stream",
          "name": "stdout",
          "text": [
            "Requirement already satisfied: pingouin in /usr/local/lib/python3.11/dist-packages (0.5.5)\n",
            "Requirement already satisfied: matplotlib in /usr/local/lib/python3.11/dist-packages (from pingouin) (3.10.0)\n",
            "Requirement already satisfied: numpy in /usr/local/lib/python3.11/dist-packages (from pingouin) (2.0.2)\n",
            "Requirement already satisfied: pandas>=1.5 in /usr/local/lib/python3.11/dist-packages (from pingouin) (2.2.2)\n",
            "Requirement already satisfied: pandas-flavor in /usr/local/lib/python3.11/dist-packages (from pingouin) (0.7.0)\n",
            "Requirement already satisfied: scikit-learn>=1.2 in /usr/local/lib/python3.11/dist-packages (from pingouin) (1.6.1)\n",
            "Requirement already satisfied: scipy in /usr/local/lib/python3.11/dist-packages (from pingouin) (1.15.3)\n",
            "Requirement already satisfied: seaborn in /usr/local/lib/python3.11/dist-packages (from pingouin) (0.13.2)\n",
            "Requirement already satisfied: statsmodels in /usr/local/lib/python3.11/dist-packages (from pingouin) (0.14.5)\n",
            "Requirement already satisfied: tabulate in /usr/local/lib/python3.11/dist-packages (from pingouin) (0.9.0)\n",
            "Requirement already satisfied: python-dateutil>=2.8.2 in /usr/local/lib/python3.11/dist-packages (from pandas>=1.5->pingouin) (2.9.0.post0)\n",
            "Requirement already satisfied: pytz>=2020.1 in /usr/local/lib/python3.11/dist-packages (from pandas>=1.5->pingouin) (2025.2)\n",
            "Requirement already satisfied: tzdata>=2022.7 in /usr/local/lib/python3.11/dist-packages (from pandas>=1.5->pingouin) (2025.2)\n",
            "Requirement already satisfied: joblib>=1.2.0 in /usr/local/lib/python3.11/dist-packages (from scikit-learn>=1.2->pingouin) (1.5.1)\n",
            "Requirement already satisfied: threadpoolctl>=3.1.0 in /usr/local/lib/python3.11/dist-packages (from scikit-learn>=1.2->pingouin) (3.6.0)\n",
            "Requirement already satisfied: contourpy>=1.0.1 in /usr/local/lib/python3.11/dist-packages (from matplotlib->pingouin) (1.3.2)\n",
            "Requirement already satisfied: cycler>=0.10 in /usr/local/lib/python3.11/dist-packages (from matplotlib->pingouin) (0.12.1)\n",
            "Requirement already satisfied: fonttools>=4.22.0 in /usr/local/lib/python3.11/dist-packages (from matplotlib->pingouin) (4.58.5)\n",
            "Requirement already satisfied: kiwisolver>=1.3.1 in /usr/local/lib/python3.11/dist-packages (from matplotlib->pingouin) (1.4.8)\n",
            "Requirement already satisfied: packaging>=20.0 in /usr/local/lib/python3.11/dist-packages (from matplotlib->pingouin) (25.0)\n",
            "Requirement already satisfied: pillow>=8 in /usr/local/lib/python3.11/dist-packages (from matplotlib->pingouin) (11.2.1)\n",
            "Requirement already satisfied: pyparsing>=2.3.1 in /usr/local/lib/python3.11/dist-packages (from matplotlib->pingouin) (3.2.3)\n",
            "Requirement already satisfied: xarray in /usr/local/lib/python3.11/dist-packages (from pandas-flavor->pingouin) (2025.3.1)\n",
            "Requirement already satisfied: patsy>=0.5.6 in /usr/local/lib/python3.11/dist-packages (from statsmodels->pingouin) (1.0.1)\n",
            "Requirement already satisfied: six>=1.5 in /usr/local/lib/python3.11/dist-packages (from python-dateutil>=2.8.2->pandas>=1.5->pingouin) (1.17.0)\n"
          ]
        }
      ]
    },
    {
      "cell_type": "code",
      "execution_count": 8,
      "metadata": {
        "id": "yfMWBeHgGPRR"
      },
      "outputs": [],
      "source": [
        "# Import necessary libraries\n",
        "\n",
        "import pandas as pd\n",
        "import numpy as np\n",
        "import matplotlib.pyplot as plt\n",
        "import seaborn as sns\n",
        "import pingouin as pg\n",
        "from sklearn.model_selection import train_test_split\n",
        "from sklearn.linear_model import LogisticRegression\n",
        "from sklearn.metrics import confusion_matrix, roc_auc_score, roc_curve, classification_report, accuracy_score\n",
        "from sklearn.utils import resample"
      ]
    },
    {
      "cell_type": "code",
      "source": [
        "# Load the Pima Indians Diabetes dataset\n",
        "url = \"https://raw.githubusercontent.com/jbrownlee/Datasets/master/pima-indians-diabetes.data.csv\"\n",
        "\n",
        "# Column names as per the dataset description\n",
        "cols = ['Pregnancies', 'Glucose', 'BloodPressure', 'SkinThickness',\n",
        "        'Insulin', 'BMI', 'DiabetesPedigreeFunction', 'Age', 'Outcome']\n",
        "\n",
        "# Load into pandas dataframe\n",
        "df = pd.read_csv(url, names=cols)\n",
        "df.head()\n",
        "\n",
        "# Check for null values (explicit NaNs)\n",
        "print(\"Null values per column:\")\n",
        "print(df.isnull().sum())\n",
        "\n",
        "# Check for implicit missing value(0s in medically impossible columns)\n",
        "cols_with_zeros = ['Glucose', 'BloodPressure', 'SkinThickness', 'Insulin', 'BMI']\n",
        "for col in cols_with_zeros:\n",
        "    print(f\"Zero values in {col}: {df[col].isin([0]).sum()}\")\n"
      ],
      "metadata": {
        "colab": {
          "base_uri": "https://localhost:8080/"
        },
        "id": "4VXsl2e6lvCL",
        "outputId": "a6c790b4-233e-492a-c3ac-bb55db929920"
      },
      "execution_count": 9,
      "outputs": [
        {
          "output_type": "stream",
          "name": "stdout",
          "text": [
            "Null values per column:\n",
            "Pregnancies                 0\n",
            "Glucose                     0\n",
            "BloodPressure               0\n",
            "SkinThickness               0\n",
            "Insulin                     0\n",
            "BMI                         0\n",
            "DiabetesPedigreeFunction    0\n",
            "Age                         0\n",
            "Outcome                     0\n",
            "dtype: int64\n",
            "Zero values in Glucose: 5\n",
            "Zero values in BloodPressure: 35\n",
            "Zero values in SkinThickness: 227\n",
            "Zero values in Insulin: 374\n",
            "Zero values in BMI: 11\n"
          ]
        }
      ]
    },
    {
      "cell_type": "markdown",
      "source": [
        "* No Null values are present in the dataset\n",
        "* Several zero values are present in columns where it doesn't make sense like for Glucode, BP, Insulin, BMI\n",
        "* These zero values likely indicate missing or unrecorded data"
      ],
      "metadata": {
        "id": "wV2YbsuypmRf"
      }
    },
    {
      "cell_type": "markdown",
      "source": [
        "# Step 2: Clean and Preprocess the Data"
      ],
      "metadata": {
        "id": "xi3WlRSi1Wds"
      }
    },
    {
      "cell_type": "markdown",
      "source": [
        "Some columns (like Glucose, Insulin) have 0s where that doesn’t make biological sense."
      ],
      "metadata": {
        "id": "AO37AzaP1bJr"
      }
    },
    {
      "cell_type": "code",
      "source": [
        "# Replace zero values in some columns with NaN (can't have zero insulin or BMI)\n",
        "cols_to_replace = ['Glucose', 'BloodPressure', 'SkinThickness', 'Insulin', 'BMI']\n",
        "df[cols_to_replace] = df[cols_to_replace].replace(0, np.nan)\n",
        "\n",
        "# Check how many missing values\n",
        "df.isnull().sum()\n"
      ],
      "metadata": {
        "colab": {
          "base_uri": "https://localhost:8080/",
          "height": 366
        },
        "id": "mLQFpSDmf57v",
        "outputId": "06aa0018-5451-4bfe-ca96-6aafd71cdff4"
      },
      "execution_count": null,
      "outputs": [
        {
          "output_type": "execute_result",
          "data": {
            "text/plain": [
              "Pregnancies                   0\n",
              "Glucose                       5\n",
              "BloodPressure                35\n",
              "SkinThickness               227\n",
              "Insulin                     374\n",
              "BMI                          11\n",
              "DiabetesPedigreeFunction      0\n",
              "Age                           0\n",
              "Outcome                       0\n",
              "dtype: int64"
            ],
            "text/html": [
              "<div>\n",
              "<style scoped>\n",
              "    .dataframe tbody tr th:only-of-type {\n",
              "        vertical-align: middle;\n",
              "    }\n",
              "\n",
              "    .dataframe tbody tr th {\n",
              "        vertical-align: top;\n",
              "    }\n",
              "\n",
              "    .dataframe thead th {\n",
              "        text-align: right;\n",
              "    }\n",
              "</style>\n",
              "<table border=\"1\" class=\"dataframe\">\n",
              "  <thead>\n",
              "    <tr style=\"text-align: right;\">\n",
              "      <th></th>\n",
              "      <th>0</th>\n",
              "    </tr>\n",
              "  </thead>\n",
              "  <tbody>\n",
              "    <tr>\n",
              "      <th>Pregnancies</th>\n",
              "      <td>0</td>\n",
              "    </tr>\n",
              "    <tr>\n",
              "      <th>Glucose</th>\n",
              "      <td>5</td>\n",
              "    </tr>\n",
              "    <tr>\n",
              "      <th>BloodPressure</th>\n",
              "      <td>35</td>\n",
              "    </tr>\n",
              "    <tr>\n",
              "      <th>SkinThickness</th>\n",
              "      <td>227</td>\n",
              "    </tr>\n",
              "    <tr>\n",
              "      <th>Insulin</th>\n",
              "      <td>374</td>\n",
              "    </tr>\n",
              "    <tr>\n",
              "      <th>BMI</th>\n",
              "      <td>11</td>\n",
              "    </tr>\n",
              "    <tr>\n",
              "      <th>DiabetesPedigreeFunction</th>\n",
              "      <td>0</td>\n",
              "    </tr>\n",
              "    <tr>\n",
              "      <th>Age</th>\n",
              "      <td>0</td>\n",
              "    </tr>\n",
              "    <tr>\n",
              "      <th>Outcome</th>\n",
              "      <td>0</td>\n",
              "    </tr>\n",
              "  </tbody>\n",
              "</table>\n",
              "</div><br><label><b>dtype:</b> int64</label>"
            ]
          },
          "metadata": {},
          "execution_count": 2
        }
      ]
    },
    {
      "cell_type": "code",
      "source": [
        "# Handle missing values through Median imputation\n",
        "df.fillna(df.median(), inplace=True)\n",
        "# Check how many missing values\n",
        "df.isnull().sum()\n"
      ],
      "metadata": {
        "id": "luJNz6HkgSyY",
        "colab": {
          "base_uri": "https://localhost:8080/",
          "height": 366
        },
        "outputId": "45f58340-2379-4c82-bfc1-9c1f044a79ca"
      },
      "execution_count": 12,
      "outputs": [
        {
          "output_type": "execute_result",
          "data": {
            "text/plain": [
              "Pregnancies                 0\n",
              "Glucose                     0\n",
              "BloodPressure               0\n",
              "SkinThickness               0\n",
              "Insulin                     0\n",
              "BMI                         0\n",
              "DiabetesPedigreeFunction    0\n",
              "Age                         0\n",
              "Outcome                     0\n",
              "dtype: int64"
            ],
            "text/html": [
              "<div>\n",
              "<style scoped>\n",
              "    .dataframe tbody tr th:only-of-type {\n",
              "        vertical-align: middle;\n",
              "    }\n",
              "\n",
              "    .dataframe tbody tr th {\n",
              "        vertical-align: top;\n",
              "    }\n",
              "\n",
              "    .dataframe thead th {\n",
              "        text-align: right;\n",
              "    }\n",
              "</style>\n",
              "<table border=\"1\" class=\"dataframe\">\n",
              "  <thead>\n",
              "    <tr style=\"text-align: right;\">\n",
              "      <th></th>\n",
              "      <th>0</th>\n",
              "    </tr>\n",
              "  </thead>\n",
              "  <tbody>\n",
              "    <tr>\n",
              "      <th>Pregnancies</th>\n",
              "      <td>0</td>\n",
              "    </tr>\n",
              "    <tr>\n",
              "      <th>Glucose</th>\n",
              "      <td>0</td>\n",
              "    </tr>\n",
              "    <tr>\n",
              "      <th>BloodPressure</th>\n",
              "      <td>0</td>\n",
              "    </tr>\n",
              "    <tr>\n",
              "      <th>SkinThickness</th>\n",
              "      <td>0</td>\n",
              "    </tr>\n",
              "    <tr>\n",
              "      <th>Insulin</th>\n",
              "      <td>0</td>\n",
              "    </tr>\n",
              "    <tr>\n",
              "      <th>BMI</th>\n",
              "      <td>0</td>\n",
              "    </tr>\n",
              "    <tr>\n",
              "      <th>DiabetesPedigreeFunction</th>\n",
              "      <td>0</td>\n",
              "    </tr>\n",
              "    <tr>\n",
              "      <th>Age</th>\n",
              "      <td>0</td>\n",
              "    </tr>\n",
              "    <tr>\n",
              "      <th>Outcome</th>\n",
              "      <td>0</td>\n",
              "    </tr>\n",
              "  </tbody>\n",
              "</table>\n",
              "</div><br><label><b>dtype:</b> int64</label>"
            ]
          },
          "metadata": {},
          "execution_count": 12
        }
      ]
    },
    {
      "cell_type": "markdown",
      "source": [
        "#Step 3: Train-Test Split"
      ],
      "metadata": {
        "id": "OxXm30vIgWVa"
      }
    },
    {
      "cell_type": "markdown",
      "source": [
        "To simulate unseen data in diagnostics.. we need to test the models on patients, the model hasn’t seen before, just like in real-life clinical settings where new data continuously arrives. This step ensures that we're not overfitting and that our model generalizes well to new cases."
      ],
      "metadata": {
        "id": "HPqg_p8GgZzV"
      }
    },
    {
      "cell_type": "code",
      "source": [
        "# Features and label\n",
        "X = df.drop('Outcome', axis=1)\n",
        "y = df['Outcome']\n",
        "\n",
        "# Split: 80% train, 20% test\n",
        "X_train, X_test, y_train, y_test = train_test_split(X, y, test_size=0.2, random_state=42, stratify=y)\n"
      ],
      "metadata": {
        "id": "qMOe9pipgcou"
      },
      "execution_count": 14,
      "outputs": []
    },
    {
      "cell_type": "markdown",
      "source": [
        "#Step 4: Build a Logistic Regression Model\n",
        "\n",
        "\n",
        "\n"
      ],
      "metadata": {
        "id": "Hz5aU-9Ugf3B"
      }
    },
    {
      "cell_type": "markdown",
      "source": [
        "In medical diagnostics, logistic regression is often the first model tested for binary classification problems like diabetes prediction (Outcome: 0 or 1). It offers interpretability, is computationally efficient, and serves as a solid baseline to compare more complex models later."
      ],
      "metadata": {
        "id": "X352mHxBgh_k"
      }
    },
    {
      "cell_type": "code",
      "source": [
        "# Initialize and train\n",
        "model = LogisticRegression(max_iter=1000)\n",
        "model.fit(X_train, y_train)\n",
        "\n",
        "# Predict probabilities\n",
        "y_probs = model.predict_proba(X_test)[:, 1]  # probability for class 1\n",
        "y_pred = model.predict(X_test)\n",
        "\n"
      ],
      "metadata": {
        "id": "Xhwi9iIjgke3"
      },
      "execution_count": 17,
      "outputs": []
    },
    {
      "cell_type": "markdown",
      "source": [
        "#Step 5: Evaluate the Model and Metrics"
      ],
      "metadata": {
        "id": "NVPqh7XSgsCP"
      }
    },
    {
      "cell_type": "markdown",
      "source": [
        "#ROC Curve, AUC, Confusion Matrix"
      ],
      "metadata": {
        "id": "2H26ro9Wguhg"
      }
    },
    {
      "cell_type": "markdown",
      "source": [
        "I have evaluated my logistic regression model’s performance on the test data by generating a confusion matrix to see the counts of correct and incorrect predictions. I also calculated the ROC curve and AUC score to assess how well the model discriminates between positive and negative diabetes cases. Finally, I reviewed the classification report to examine precision, recall, F1-score, and support for each class, providing a detailed overview of the model’s predictive capabilities."
      ],
      "metadata": {
        "id": "l1ZFyrsOxJTn"
      }
    },
    {
      "cell_type": "code",
      "source": [
        "# Confusion matrix\n",
        "cm = confusion_matrix(y_test, y_pred)\n",
        "print(\"Confusion Matrix:\\n\", cm)\n",
        "\n",
        "# ROC-AUC\n",
        "auc = roc_auc_score(y_test, y_probs)\n",
        "print(\"ROC AUC Score:\", auc)\n",
        "\n",
        "# Classification report\n",
        "print(\"Classification Report:\\n\", classification_report(y_test, y_pred))\n"
      ],
      "metadata": {
        "colab": {
          "base_uri": "https://localhost:8080/"
        },
        "id": "WZ-NI5EBgw92",
        "outputId": "311a423f-2f4d-41ce-c02f-b71e2c89483b"
      },
      "execution_count": 18,
      "outputs": [
        {
          "output_type": "stream",
          "name": "stdout",
          "text": [
            "Confusion Matrix:\n",
            " [[82 18]\n",
            " [26 28]]\n",
            "ROC AUC Score: 0.8229629629629629\n",
            "Classification Report:\n",
            "               precision    recall  f1-score   support\n",
            "\n",
            "           0       0.76      0.82      0.79       100\n",
            "           1       0.61      0.52      0.56        54\n",
            "\n",
            "    accuracy                           0.71       154\n",
            "   macro avg       0.68      0.67      0.67       154\n",
            "weighted avg       0.71      0.71      0.71       154\n",
            "\n"
          ]
        }
      ]
    },
    {
      "cell_type": "markdown",
      "source": [
        "# Model Evaluation Summary\n",
        "The confusion matrix shows that the model correctly predicted 82 non-diabetic cases and 28 diabetic cases, while misclassifying 18 non-diabetic and 26 diabetic cases. The ROC AUC score of approximately 0.82 indicates good overall discrimination ability between diabetic and non-diabetic patients.\n",
        "\n",
        "From the classification report, the model achieves an accuracy of 71%. For the non-diabetic class (0), precision is 76%, recall is 82%, and the F1-score is 79%, reflecting an average performance in identifying negatives. For the diabetic class (1), precision is lower at 61%, with recall at 52% and an F1-score of 56%, suggesting the model struggles more to correctly identify positive cases.\n",
        "\n",
        "Overall, while the model performs average while in detecting non-diabetic patients, the sensitivity prediction for positive cases need to be improved."
      ],
      "metadata": {
        "id": "iTJ2a8Z6xeHY"
      }
    },
    {
      "cell_type": "code",
      "source": [
        "fpr, tpr, thresholds = roc_curve(y_test, y_probs)\n",
        "\n",
        "plt.figure(figsize=(8, 6))\n",
        "plt.plot(fpr, tpr, label=f'Logistic Model (AUC = {auc:.2f})')\n",
        "plt.plot([0, 1], [0, 1], 'k--')  # chance line\n",
        "plt.xlabel('False Positive Rate')\n",
        "plt.ylabel('True Positive Rate')\n",
        "plt.title('ROC Curve for Diabetes Prediction')\n",
        "plt.legend()\n",
        "plt.grid(True)\n",
        "plt.show()\n"
      ],
      "metadata": {
        "colab": {
          "base_uri": "https://localhost:8080/",
          "height": 564
        },
        "id": "CEWmBwbNg1D6",
        "outputId": "c40f5bdc-8117-4691-ab74-f8ab571c4a97"
      },
      "execution_count": 19,
      "outputs": [
        {
          "output_type": "display_data",
          "data": {
            "text/plain": [
              "<Figure size 800x600 with 1 Axes>"
            ],
            "image/png": "[encoded data removed]"
          },
          "metadata": {}
        }
      ]
    },
    {
      "cell_type": "markdown",
      "source": [
        "##Key Takeaways\n",
        "Model Performance: The model shows good predictive performance. The blue curve, representing the logistic model, is positioned far to the top-left, well above the dashed diagonal line. This indicates that the model is significantly better at classifying patients than random chance.\n",
        "\n",
        "AUC Score: The Area Under the Curve (AUC) is 0.82. This is a single number that summarizes the model's ability to distinguish between the positive and negative classes (patients with and without diabetes).\n",
        "\n",
        "An AUC of 1.0 represents a perfect model.\n",
        "\n",
        "An AUC of 0.5 (the dashed line) represents a model with no discriminative ability (equivalent to random guessing).\n",
        "\n",
        "An AUC of 0.82 is generally considered a good score, indicating the model has a strong capability to differentiate between classes.\n",
        "\n",
        "In short, the logistic regression model is effective for predicting diabetes, with an AUC of 0.82 demonstrating its strong diagnostic ability."
      ],
      "metadata": {
        "id": "tHptoZvgyPEj"
      }
    },
    {
      "cell_type": "markdown",
      "source": [
        "#Step 6 : Boosted Model (Rater 2)"
      ],
      "metadata": {
        "id": "AJkZsHV8iYZB"
      }
    },
    {
      "cell_type": "markdown",
      "source": [
        "In this step, I have simulated a second diagnostic test (rater) to assess the stability of predictions across repeated measures. I started with the original logistic regression model’s predicted probabilities as Rater 1’s scores.\n",
        "\n",
        "To create Rater 2, I generated a slightly different version of the model by training a new logistic regression on a bootstrapped sample of the original training data. This resampling mimics small variations that might occur in repeated clinical tests.\n",
        "\n",
        "Finally, I obtained predicted probabilities from this boosted model on the same test set, which will allow me to compare and assess agreement between the two raters."
      ],
      "metadata": {
        "id": "BaGO6Bqsy8iV"
      }
    },
    {
      "cell_type": "code",
      "source": [
        "# First rater: original logistic regression model from Day 1\n",
        "rater1_scores = y_probs  # already computed previously\n",
        "\n",
        "# Simulate the second rater — Boosted Model (slight data resample to simulate a marginal variation)\n",
        "X_boot, y_boot = resample(X_train, y_train, replace=True, random_state=42)\n",
        "\n",
        "# Train a new logistic regression on the bootstrapped sample\n",
        "boosted_model = LogisticRegression(max_iter=1000)\n",
        "boosted_model.fit(X_boot, y_boot)\n",
        "\n",
        "# Get predicted probabilities on the same X_test\n",
        "rater2_scores = boosted_model.predict_proba(X_test)[:, 1]\n"
      ],
      "metadata": {
        "id": "oV7BkMC-mXfx"
      },
      "execution_count": 20,
      "outputs": []
    },
    {
      "cell_type": "markdown",
      "source": [
        "#Step 7 : Prepare the Dataframe for ICC"
      ],
      "metadata": {
        "id": "jgRUxuabmdZM"
      }
    },
    {
      "cell_type": "markdown",
      "source": [
        "I had combined the predicted probabilities from both models (the original logistic regression and the boosted model) into a single dataframe. Each row corresponds to a test subject and includes the predicted scores from both raters. This long-form dataframe had been prepared to calculate the Intraclass Correlation Coefficient (ICC), which measures the agreement between the two sets of predictions."
      ],
      "metadata": {
        "id": "ayxcTpLWzXPy"
      }
    },
    {
      "cell_type": "code",
      "source": [
        "# Combine both raters into a long-form dataframe\n",
        "icc_df = pd.DataFrame({\n",
        "    'subject': np.arange(len(rater1_scores)),\n",
        "    'boosted_model': rater2_scores,\n",
        "    'logistic_model': rater1_scores\n",
        "})\n",
        "icc_df.head()\n"
      ],
      "metadata": {
        "colab": {
          "base_uri": "https://localhost:8080/",
          "height": 206
        },
        "id": "ruOGxQDFmhZu",
        "outputId": "cfaebe65-0ac6-4e2e-c85c-a04eac6f2f82"
      },
      "execution_count": 22,
      "outputs": [
        {
          "output_type": "execute_result",
          "data": {
            "text/plain": [
              "   subject  boosted_model  logistic_model\n",
              "0        0       0.673833        0.623268\n",
              "1        1       0.111854        0.110308\n",
              "2        2       0.271593        0.270891\n",
              "3        3       0.322950        0.280410\n",
              "4        4       0.003079        0.004288"
            ],
            "text/html": [
              "\n",
              "  <div id=\"df-064ace7a-e340-4388-bb47-e56f00db858e\" class=\"colab-df-container\">\n",
              "    <div>\n",
              "<style scoped>\n",
              "    .dataframe tbody tr th:only-of-type {\n",
              "        vertical-align: middle;\n",
              "    }\n",
              "\n",
              "    .dataframe tbody tr th {\n",
              "        vertical-align: top;\n",
              "    }\n",
              "\n",
              "    .dataframe thead th {\n",
              "        text-align: right;\n",
              "    }\n",
              "</style>\n",
              "<table border=\"1\" class=\"dataframe\">\n",
              "  <thead>\n",
              "    <tr style=\"text-align: right;\">\n",
              "      <th></th>\n",
              "      <th>subject</th>\n",
              "      <th>boosted_model</th>\n",
              "      <th>logistic_model</th>\n",
              "    </tr>\n",
              "  </thead>\n",
              "  <tbody>\n",
              "    <tr>\n",
              "      <th>0</th>\n",
              "      <td>0</td>\n",
              "      <td>0.673833</td>\n",
              "      <td>0.623268</td>\n",
              "    </tr>\n",
              "    <tr>\n",
              "      <th>1</th>\n",
              "      <td>1</td>\n",
              "      <td>0.111854</td>\n",
              "      <td>0.110308</td>\n",
              "    </tr>\n",
              "    <tr>\n",
              "      <th>2</th>\n",
              "      <td>2</td>\n",
              "      <td>0.271593</td>\n",
              "      <td>0.270891</td>\n",
              "    </tr>\n",
              "    <tr>\n",
              "      <th>3</th>\n",
              "      <td>3</td>\n",
              "      <td>0.322950</td>\n",
              "      <td>0.280410</td>\n",
              "    </tr>\n",
              "    <tr>\n",
              "      <th>4</th>\n",
              "      <td>4</td>\n",
              "      <td>0.003079</td>\n",
              "      <td>0.004288</td>\n",
              "    </tr>\n",
              "  </tbody>\n",
              "</table>\n",
              "</div>\n",
              "    <div class=\"colab-df-buttons\">\n",
              "\n",
              "  <div class=\"colab-df-container\">\n",
              "    <button class=\"colab-df-convert\" onclick=\"convertToInteractive('df-064ace7a-e340-4388-bb47-e56f00db858e')\"\n",
              "            title=\"Convert this dataframe to an interactive table.\"\n",
              "            style=\"display:none;\">\n",
              "\n",
              "  <svg xmlns=\"http://www.w3.org/2000/svg\" height=\"24px\" viewBox=\"0 -960 960 960\">\n",
              "    <path d=\"M120-120v-720h720v720H120Zm60-500h600v-160H180v160Zm220 220h160v-160H400v160Zm0 220h160v-160H400v160ZM180-400h160v-160H180v160Zm440 0h160v-160H620v160ZM180-180h160v-160H180v160Zm440 0h160v-160H620v160Z\"/>\n",
              "  </svg>\n",
              "    </button>\n",
              "\n",
              "  <style>\n",
              "    .colab-df-container {\n",
              "      display:flex;\n",
              "      gap: 12px;\n",
              "    }\n",
              "\n",
              "    .colab-df-convert {\n",
              "      background-color: #E8F0FE;\n",
              "      border: none;\n",
              "      border-radius: 50%;\n",
              "      cursor: pointer;\n",
              "      display: none;\n",
              "      fill: #1967D2;\n",
              "      height: 32px;\n",
              "      padding: 0 0 0 0;\n",
              "      width: 32px;\n",
              "    }\n",
              "\n",
              "    .colab-df-convert:hover {\n",
              "      background-color: #E2EBFA;\n",
              "      box-shadow: 0px 1px 2px rgba(60, 64, 67, 0.3), 0px 1px 3px 1px rgba(60, 64, 67, 0.15);\n",
              "      fill: #174EA6;\n",
              "    }\n",
              "\n",
              "    .colab-df-buttons div {\n",
              "      margin-bottom: 4px;\n",
              "    }\n",
              "\n",
              "    [theme=dark] .colab-df-convert {\n",
              "      background-color: #3B4455;\n",
              "      fill: #D2E3FC;\n",
              "    }\n",
              "\n",
              "    [theme=dark] .colab-df-convert:hover {\n",
              "      background-color: #434B5C;\n",
              "      box-shadow: 0px 1px 3px 1px rgba(0, 0, 0, 0.15);\n",
              "      filter: drop-shadow(0px 1px 2px rgba(0, 0, 0, 0.3));\n",
              "      fill: #FFFFFF;\n",
              "    }\n",
              "  </style>\n",
              "\n",
              "    <script>\n",
              "      const buttonEl =\n",
              "        document.querySelector('#df-064ace7a-e340-4388-bb47-e56f00db858e button.colab-df-convert');\n",
              "      buttonEl.style.display =\n",
              "        google.colab.kernel.accessAllowed ? 'block' : 'none';\n",
              "\n",
              "      async function convertToInteractive(key) {\n",
              "        const element = document.querySelector('#df-064ace7a-e340-4388-bb47-e56f00db858e');\n",
              "        const dataTable =\n",
              "          await google.colab.kernel.invokeFunction('convertToInteractive',\n",
              "                                                    [key], {});\n",
              "        if (!dataTable) return;\n",
              "\n",
              "        const docLinkHtml = 'Like what you see? Visit the ' +\n",
              "          '<a target=\"_blank\" href=https://colab.research.google.com/notebooks/data_table.ipynb>data table notebook</a>'\n",
              "          + ' to learn more about interactive tables.';\n",
              "        element.innerHTML = '';\n",
              "        dataTable['output_type'] = 'display_data';\n",
              "        await google.colab.output.renderOutput(dataTable, element);\n",
              "        const docLink = document.createElement('div');\n",
              "        docLink.innerHTML = docLinkHtml;\n",
              "        element.appendChild(docLink);\n",
              "      }\n",
              "    </script>\n",
              "  </div>\n",
              "\n",
              "\n",
              "    <div id=\"df-4093baf6-9d04-433c-87f9-e135c027bd0e\">\n",
              "      <button class=\"colab-df-quickchart\" onclick=\"quickchart('df-4093baf6-9d04-433c-87f9-e135c027bd0e')\"\n",
              "                title=\"Suggest charts\"\n",
              "                style=\"display:none;\">\n",
              "\n",
              "<svg xmlns=\"http://www.w3.org/2000/svg\" height=\"24px\"viewBox=\"0 0 24 24\"\n",
              "     width=\"24px\">\n",
              "    <g>\n",
              "        <path d=\"M19 3H5c-1.1 0-2 .9-2 2v14c0 1.1.9 2 2 2h14c1.1 0 2-.9 2-2V5c0-1.1-.9-2-2-2zM9 17H7v-7h2v7zm4 0h-2V7h2v10zm4 0h-2v-4h2v4z\"/>\n",
              "    </g>\n",
              "</svg>\n",
              "      </button>\n",
              "\n",
              "<style>\n",
              "  .colab-df-quickchart {\n",
              "      --bg-color: #E8F0FE;\n",
              "      --fill-color: #1967D2;\n",
              "      --hover-bg-color: #E2EBFA;\n",
              "      --hover-fill-color: #174EA6;\n",
              "      --disabled-fill-color: #AAA;\n",
              "      --disabled-bg-color: #DDD;\n",
              "  }\n",
              "\n",
              "  [theme=dark] .colab-df-quickchart {\n",
              "      --bg-color: #3B4455;\n",
              "      --fill-color: #D2E3FC;\n",
              "      --hover-bg-color: #434B5C;\n",
              "      --hover-fill-color: #FFFFFF;\n",
              "      --disabled-bg-color: #3B4455;\n",
              "      --disabled-fill-color: #666;\n",
              "  }\n",
              "\n",
              "  .colab-df-quickchart {\n",
              "    background-color: var(--bg-color);\n",
              "    border: none;\n",
              "    border-radius: 50%;\n",
              "    cursor: pointer;\n",
              "    display: none;\n",
              "    fill: var(--fill-color);\n",
              "    height: 32px;\n",
              "    padding: 0;\n",
              "    width: 32px;\n",
              "  }\n",
              "\n",
              "  .colab-df-quickchart:hover {\n",
              "    background-color: var(--hover-bg-color);\n",
              "    box-shadow: 0 1px 2px rgba(60, 64, 67, 0.3), 0 1px 3px 1px rgba(60, 64, 67, 0.15);\n",
              "    fill: var(--button-hover-fill-color);\n",
              "  }\n",
              "\n",
              "  .colab-df-quickchart-complete:disabled,\n",
              "  .colab-df-quickchart-complete:disabled:hover {\n",
              "    background-color: var(--disabled-bg-color);\n",
              "    fill: var(--disabled-fill-color);\n",
              "    box-shadow: none;\n",
              "  }\n",
              "\n",
              "  .colab-df-spinner {\n",
              "    border: 2px solid var(--fill-color);\n",
              "    border-color: transparent;\n",
              "    border-bottom-color: var(--fill-color);\n",
              "    animation:\n",
              "      spin 1s steps(1) infinite;\n",
              "  }\n",
              "\n",
              "  @keyframes spin {\n",
              "    0% {\n",
              "      border-color: transparent;\n",
              "      border-bottom-color: var(--fill-color);\n",
              "      border-left-color: var(--fill-color);\n",
              "    }\n",
              "    20% {\n",
              "      border-color: transparent;\n",
              "      border-left-color: var(--fill-color);\n",
              "      border-top-color: var(--fill-color);\n",
              "    }\n",
              "    30% {\n",
              "      border-color: transparent;\n",
              "      border-left-color: var(--fill-color);\n",
              "      border-top-color: var(--fill-color);\n",
              "      border-right-color: var(--fill-color);\n",
              "    }\n",
              "    40% {\n",
              "      border-color: transparent;\n",
              "      border-right-color: var(--fill-color);\n",
              "      border-top-color: var(--fill-color);\n",
              "    }\n",
              "    60% {\n",
              "      border-color: transparent;\n",
              "      border-right-color: var(--fill-color);\n",
              "    }\n",
              "    80% {\n",
              "      border-color: transparent;\n",
              "      border-right-color: var(--fill-color);\n",
              "      border-bottom-color: var(--fill-color);\n",
              "    }\n",
              "    90% {\n",
              "      border-color: transparent;\n",
              "      border-bottom-color: var(--fill-color);\n",
              "    }\n",
              "  }\n",
              "</style>\n",
              "\n",
              "      <script>\n",
              "        async function quickchart(key) {\n",
              "          const quickchartButtonEl =\n",
              "            document.querySelector('#' + key + ' button');\n",
              "          quickchartButtonEl.disabled = true;  // To prevent multiple clicks.\n",
              "          quickchartButtonEl.classList.add('colab-df-spinner');\n",
              "          try {\n",
              "            const charts = await google.colab.kernel.invokeFunction(\n",
              "                'suggestCharts', [key], {});\n",
              "          } catch (error) {\n",
              "            console.error('Error during call to suggestCharts:', error);\n",
              "          }\n",
              "          quickchartButtonEl.classList.remove('colab-df-spinner');\n",
              "          quickchartButtonEl.classList.add('colab-df-quickchart-complete');\n",
              "        }\n",
              "        (() => {\n",
              "          let quickchartButtonEl =\n",
              "            document.querySelector('#df-4093baf6-9d04-433c-87f9-e135c027bd0e button');\n",
              "          quickchartButtonEl.style.display =\n",
              "            google.colab.kernel.accessAllowed ? 'block' : 'none';\n",
              "        })();\n",
              "      </script>\n",
              "    </div>\n",
              "\n",
              "    </div>\n",
              "  </div>\n"
            ],
            "application/vnd.google.colaboratory.intrinsic+json": {
              "type": "dataframe",
              "variable_name": "icc_df",
              "summary": "{\n  \"name\": \"icc_df\",\n  \"rows\": 154,\n  \"fields\": [\n    {\n      \"column\": \"subject\",\n      \"properties\": {\n        \"dtype\": \"number\",\n        \"std\": 44,\n        \"min\": 0,\n        \"max\": 153,\n        \"num_unique_values\": 154,\n        \"samples\": [\n          15,\n          94,\n          152\n        ],\n        \"semantic_type\": \"\",\n        \"description\": \"\"\n      }\n    },\n    {\n      \"column\": \"boosted_model\",\n      \"properties\": {\n        \"dtype\": \"number\",\n        \"std\": 0.301978500227497,\n        \"min\": 0.0009955204342336657,\n        \"max\": 0.9965390013030926,\n        \"num_unique_values\": 154,\n        \"samples\": [\n          0.34873860814029334,\n          0.5416114598706298,\n          0.8583741998892179\n        ],\n        \"semantic_type\": \"\",\n        \"description\": \"\"\n      }\n    },\n    {\n      \"column\": \"logistic_model\",\n      \"properties\": {\n        \"dtype\": \"number\",\n        \"std\": 0.2841386935607274,\n        \"min\": 0.0016209239783855202,\n        \"max\": 0.9920532854970635,\n        \"num_unique_values\": 154,\n        \"samples\": [\n          0.3542336587509744,\n          0.47498910158511065,\n          0.8159541528096538\n        ],\n        \"semantic_type\": \"\",\n        \"description\": \"\"\n      }\n    }\n  ]\n}"
            }
          },
          "metadata": {},
          "execution_count": 22
        }
      ]
    },
    {
      "cell_type": "markdown",
      "source": [
        "The dataframe shows predicted probabilities for each test subject from both the boosted model and the original logistic regression model. The predicted scores are quite close for each subject, indicating that the two models produce similar probability estimates despite slight differences in training data."
      ],
      "metadata": {
        "id": "osztw8rxzij7"
      }
    },
    {
      "cell_type": "markdown",
      "source": [
        "#  Step 7: Compute ICC (Intraclass Correlation Coefficient)"
      ],
      "metadata": {
        "id": "uNTKVIl8mkdF"
      }
    },
    {
      "cell_type": "markdown",
      "source": [
        "I transformed the combined dataframe into a long format to prepare it for ICC calculation, where each row represents a single rating from one of the two models (raters) for each subject.\n",
        "\n",
        "Using the pingouin library, I calculated the Intraclass Correlation Coefficient (ICC) to quantify the level of agreement between the original logistic regression model and the boosted model’s predicted probabilities.\n",
        "\n",
        "This step provides a formal statistical measure of consistency between the two raters, which is crucial for assessing the reliability of the diagnostic predictions across repeated tests."
      ],
      "metadata": {
        "id": "Gbdr-cvlz79Q"
      }
    },
    {
      "cell_type": "code",
      "source": [
        "# Melt into long format for ICC calculation\n",
        "icc_long = icc_df.melt(id_vars='subject', var_name='rater', value_name='score')\n",
        "\n",
        "# Calculate ICC\n",
        "icc_result = pg.intraclass_corr(data=icc_long, targets='subject', raters='rater', ratings='score')\n",
        "icc_result\n"
      ],
      "metadata": {
        "colab": {
          "base_uri": "https://localhost:8080/",
          "height": 341
        },
        "id": "tU8HSBGUmsa4",
        "outputId": "b36a37a0-c253-4b2a-d18c-74d9341ee1f5"
      },
      "execution_count": null,
      "outputs": [
        {
          "output_type": "execute_result",
          "data": {
            "text/plain": [
              "    Type              Description       ICC           F  df1  df2  \\\n",
              "0   ICC1   Single raters absolute  0.983735  121.961399  153  154   \n",
              "1   ICC2     Single random raters  0.983738  124.880127  153  153   \n",
              "2   ICC3      Single fixed raters  0.984112  124.880127  153  153   \n",
              "3  ICC1k  Average raters absolute  0.991801  121.961399  153  154   \n",
              "4  ICC2k    Average random raters  0.991802  124.880127  153  153   \n",
              "5  ICC3k     Average fixed raters  0.991992  124.880127  153  153   \n",
              "\n",
              "            pval         CI95%  \n",
              "0  5.640945e-117  [0.98, 0.99]  \n",
              "1  4.577212e-117  [0.98, 0.99]  \n",
              "2  4.577212e-117  [0.98, 0.99]  \n",
              "3  5.640945e-117  [0.99, 0.99]  \n",
              "4  4.577212e-117  [0.99, 0.99]  \n",
              "5  4.577212e-117  [0.99, 0.99]  "
            ],
            "text/html": [
              "\n",
              "  <div id=\"df-afd7c70c-5939-445f-a247-ba018a1f64e6\" class=\"colab-df-container\">\n",
              "    <div>\n",
              "<style scoped>\n",
              "    .dataframe tbody tr th:only-of-type {\n",
              "        vertical-align: middle;\n",
              "    }\n",
              "\n",
              "    .dataframe tbody tr th {\n",
              "        vertical-align: top;\n",
              "    }\n",
              "\n",
              "    .dataframe thead th {\n",
              "        text-align: right;\n",
              "    }\n",
              "</style>\n",
              "<table border=\"1\" class=\"dataframe\">\n",
              "  <thead>\n",
              "    <tr style=\"text-align: right;\">\n",
              "      <th></th>\n",
              "      <th>Type</th>\n",
              "      <th>Description</th>\n",
              "      <th>ICC</th>\n",
              "      <th>F</th>\n",
              "      <th>df1</th>\n",
              "      <th>df2</th>\n",
              "      <th>pval</th>\n",
              "      <th>CI95%</th>\n",
              "    </tr>\n",
              "  </thead>\n",
              "  <tbody>\n",
              "    <tr>\n",
              "      <th>0</th>\n",
              "      <td>ICC1</td>\n",
              "      <td>Single raters absolute</td>\n",
              "      <td>0.983735</td>\n",
              "      <td>121.961399</td>\n",
              "      <td>153</td>\n",
              "      <td>154</td>\n",
              "      <td>5.640945e-117</td>\n",
              "      <td>[0.98, 0.99]</td>\n",
              "    </tr>\n",
              "    <tr>\n",
              "      <th>1</th>\n",
              "      <td>ICC2</td>\n",
              "      <td>Single random raters</td>\n",
              "      <td>0.983738</td>\n",
              "      <td>124.880127</td>\n",
              "      <td>153</td>\n",
              "      <td>153</td>\n",
              "      <td>4.577212e-117</td>\n",
              "      <td>[0.98, 0.99]</td>\n",
              "    </tr>\n",
              "    <tr>\n",
              "      <th>2</th>\n",
              "      <td>ICC3</td>\n",
              "      <td>Single fixed raters</td>\n",
              "      <td>0.984112</td>\n",
              "      <td>124.880127</td>\n",
              "      <td>153</td>\n",
              "      <td>153</td>\n",
              "      <td>4.577212e-117</td>\n",
              "      <td>[0.98, 0.99]</td>\n",
              "    </tr>\n",
              "    <tr>\n",
              "      <th>3</th>\n",
              "      <td>ICC1k</td>\n",
              "      <td>Average raters absolute</td>\n",
              "      <td>0.991801</td>\n",
              "      <td>121.961399</td>\n",
              "      <td>153</td>\n",
              "      <td>154</td>\n",
              "      <td>5.640945e-117</td>\n",
              "      <td>[0.99, 0.99]</td>\n",
              "    </tr>\n",
              "    <tr>\n",
              "      <th>4</th>\n",
              "      <td>ICC2k</td>\n",
              "      <td>Average random raters</td>\n",
              "      <td>0.991802</td>\n",
              "      <td>124.880127</td>\n",
              "      <td>153</td>\n",
              "      <td>153</td>\n",
              "      <td>4.577212e-117</td>\n",
              "      <td>[0.99, 0.99]</td>\n",
              "    </tr>\n",
              "    <tr>\n",
              "      <th>5</th>\n",
              "      <td>ICC3k</td>\n",
              "      <td>Average fixed raters</td>\n",
              "      <td>0.991992</td>\n",
              "      <td>124.880127</td>\n",
              "      <td>153</td>\n",
              "      <td>153</td>\n",
              "      <td>4.577212e-117</td>\n",
              "      <td>[0.99, 0.99]</td>\n",
              "    </tr>\n",
              "  </tbody>\n",
              "</table>\n",
              "</div>\n",
              "    <div class=\"colab-df-buttons\">\n",
              "\n",
              "  <div class=\"colab-df-container\">\n",
              "    <button class=\"colab-df-convert\" onclick=\"convertToInteractive('df-afd7c70c-5939-445f-a247-ba018a1f64e6')\"\n",
              "            title=\"Convert this dataframe to an interactive table.\"\n",
              "            style=\"display:none;\">\n",
              "\n",
              "  <svg xmlns=\"http://www.w3.org/2000/svg\" height=\"24px\" viewBox=\"0 -960 960 960\">\n",
              "    <path d=\"M120-120v-720h720v720H120Zm60-500h600v-160H180v160Zm220 220h160v-160H400v160Zm0 220h160v-160H400v160ZM180-400h160v-160H180v160Zm440 0h160v-160H620v160ZM180-180h160v-160H180v160Zm440 0h160v-160H620v160Z\"/>\n",
              "  </svg>\n",
              "    </button>\n",
              "\n",
              "  <style>\n",
              "    .colab-df-container {\n",
              "      display:flex;\n",
              "      gap: 12px;\n",
              "    }\n",
              "\n",
              "    .colab-df-convert {\n",
              "      background-color: #E8F0FE;\n",
              "      border: none;\n",
              "      border-radius: 50%;\n",
              "      cursor: pointer;\n",
              "      display: none;\n",
              "      fill: #1967D2;\n",
              "      height: 32px;\n",
              "      padding: 0 0 0 0;\n",
              "      width: 32px;\n",
              "    }\n",
              "\n",
              "    .colab-df-convert:hover {\n",
              "      background-color: #E2EBFA;\n",
              "      box-shadow: 0px 1px 2px rgba(60, 64, 67, 0.3), 0px 1px 3px 1px rgba(60, 64, 67, 0.15);\n",
              "      fill: #174EA6;\n",
              "    }\n",
              "\n",
              "    .colab-df-buttons div {\n",
              "      margin-bottom: 4px;\n",
              "    }\n",
              "\n",
              "    [theme=dark] .colab-df-convert {\n",
              "      background-color: #3B4455;\n",
              "      fill: #D2E3FC;\n",
              "    }\n",
              "\n",
              "    [theme=dark] .colab-df-convert:hover {\n",
              "      background-color: #434B5C;\n",
              "      box-shadow: 0px 1px 3px 1px rgba(0, 0, 0, 0.15);\n",
              "      filter: drop-shadow(0px 1px 2px rgba(0, 0, 0, 0.3));\n",
              "      fill: #FFFFFF;\n",
              "    }\n",
              "  </style>\n",
              "\n",
              "    <script>\n",
              "      const buttonEl =\n",
              "        document.querySelector('#df-afd7c70c-5939-445f-a247-ba018a1f64e6 button.colab-df-convert');\n",
              "      buttonEl.style.display =\n",
              "        google.colab.kernel.accessAllowed ? 'block' : 'none';\n",
              "\n",
              "      async function convertToInteractive(key) {\n",
              "        const element = document.querySelector('#df-afd7c70c-5939-445f-a247-ba018a1f64e6');\n",
              "        const dataTable =\n",
              "          await google.colab.kernel.invokeFunction('convertToInteractive',\n",
              "                                                    [key], {});\n",
              "        if (!dataTable) return;\n",
              "\n",
              "        const docLinkHtml = 'Like what you see? Visit the ' +\n",
              "          '<a target=\"_blank\" href=https://colab.research.google.com/notebooks/data_table.ipynb>data table notebook</a>'\n",
              "          + ' to learn more about interactive tables.';\n",
              "        element.innerHTML = '';\n",
              "        dataTable['output_type'] = 'display_data';\n",
              "        await google.colab.output.renderOutput(dataTable, element);\n",
              "        const docLink = document.createElement('div');\n",
              "        docLink.innerHTML = docLinkHtml;\n",
              "        element.appendChild(docLink);\n",
              "      }\n",
              "    </script>\n",
              "  </div>\n",
              "\n",
              "\n",
              "    <div id=\"df-46496bb3-3f93-4f1c-92c6-f9501b487103\">\n",
              "      <button class=\"colab-df-quickchart\" onclick=\"quickchart('df-46496bb3-3f93-4f1c-92c6-f9501b487103')\"\n",
              "                title=\"Suggest charts\"\n",
              "                style=\"display:none;\">\n",
              "\n",
              "<svg xmlns=\"http://www.w3.org/2000/svg\" height=\"24px\"viewBox=\"0 0 24 24\"\n",
              "     width=\"24px\">\n",
              "    <g>\n",
              "        <path d=\"M19 3H5c-1.1 0-2 .9-2 2v14c0 1.1.9 2 2 2h14c1.1 0 2-.9 2-2V5c0-1.1-.9-2-2-2zM9 17H7v-7h2v7zm4 0h-2V7h2v10zm4 0h-2v-4h2v4z\"/>\n",
              "    </g>\n",
              "</svg>\n",
              "      </button>\n",
              "\n",
              "<style>\n",
              "  .colab-df-quickchart {\n",
              "      --bg-color: #E8F0FE;\n",
              "      --fill-color: #1967D2;\n",
              "      --hover-bg-color: #E2EBFA;\n",
              "      --hover-fill-color: #174EA6;\n",
              "      --disabled-fill-color: #AAA;\n",
              "      --disabled-bg-color: #DDD;\n",
              "  }\n",
              "\n",
              "  [theme=dark] .colab-df-quickchart {\n",
              "      --bg-color: #3B4455;\n",
              "      --fill-color: #D2E3FC;\n",
              "      --hover-bg-color: #434B5C;\n",
              "      --hover-fill-color: #FFFFFF;\n",
              "      --disabled-bg-color: #3B4455;\n",
              "      --disabled-fill-color: #666;\n",
              "  }\n",
              "\n",
              "  .colab-df-quickchart {\n",
              "    background-color: var(--bg-color);\n",
              "    border: none;\n",
              "    border-radius: 50%;\n",
              "    cursor: pointer;\n",
              "    display: none;\n",
              "    fill: var(--fill-color);\n",
              "    height: 32px;\n",
              "    padding: 0;\n",
              "    width: 32px;\n",
              "  }\n",
              "\n",
              "  .colab-df-quickchart:hover {\n",
              "    background-color: var(--hover-bg-color);\n",
              "    box-shadow: 0 1px 2px rgba(60, 64, 67, 0.3), 0 1px 3px 1px rgba(60, 64, 67, 0.15);\n",
              "    fill: var(--button-hover-fill-color);\n",
              "  }\n",
              "\n",
              "  .colab-df-quickchart-complete:disabled,\n",
              "  .colab-df-quickchart-complete:disabled:hover {\n",
              "    background-color: var(--disabled-bg-color);\n",
              "    fill: var(--disabled-fill-color);\n",
              "    box-shadow: none;\n",
              "  }\n",
              "\n",
              "  .colab-df-spinner {\n",
              "    border: 2px solid var(--fill-color);\n",
              "    border-color: transparent;\n",
              "    border-bottom-color: var(--fill-color);\n",
              "    animation:\n",
              "      spin 1s steps(1) infinite;\n",
              "  }\n",
              "\n",
              "  @keyframes spin {\n",
              "    0% {\n",
              "      border-color: transparent;\n",
              "      border-bottom-color: var(--fill-color);\n",
              "      border-left-color: var(--fill-color);\n",
              "    }\n",
              "    20% {\n",
              "      border-color: transparent;\n",
              "      border-left-color: var(--fill-color);\n",
              "      border-top-color: var(--fill-color);\n",
              "    }\n",
              "    30% {\n",
              "      border-color: transparent;\n",
              "      border-left-color: var(--fill-color);\n",
              "      border-top-color: var(--fill-color);\n",
              "      border-right-color: var(--fill-color);\n",
              "    }\n",
              "    40% {\n",
              "      border-color: transparent;\n",
              "      border-right-color: var(--fill-color);\n",
              "      border-top-color: var(--fill-color);\n",
              "    }\n",
              "    60% {\n",
              "      border-color: transparent;\n",
              "      border-right-color: var(--fill-color);\n",
              "    }\n",
              "    80% {\n",
              "      border-color: transparent;\n",
              "      border-right-color: var(--fill-color);\n",
              "      border-bottom-color: var(--fill-color);\n",
              "    }\n",
              "    90% {\n",
              "      border-color: transparent;\n",
              "      border-bottom-color: var(--fill-color);\n",
              "    }\n",
              "  }\n",
              "</style>\n",
              "\n",
              "      <script>\n",
              "        async function quickchart(key) {\n",
              "          const quickchartButtonEl =\n",
              "            document.querySelector('#' + key + ' button');\n",
              "          quickchartButtonEl.disabled = true;  // To prevent multiple clicks.\n",
              "          quickchartButtonEl.classList.add('colab-df-spinner');\n",
              "          try {\n",
              "            const charts = await google.colab.kernel.invokeFunction(\n",
              "                'suggestCharts', [key], {});\n",
              "          } catch (error) {\n",
              "            console.error('Error during call to suggestCharts:', error);\n",
              "          }\n",
              "          quickchartButtonEl.classList.remove('colab-df-spinner');\n",
              "          quickchartButtonEl.classList.add('colab-df-quickchart-complete');\n",
              "        }\n",
              "        (() => {\n",
              "          let quickchartButtonEl =\n",
              "            document.querySelector('#df-46496bb3-3f93-4f1c-92c6-f9501b487103 button');\n",
              "          quickchartButtonEl.style.display =\n",
              "            google.colab.kernel.accessAllowed ? 'block' : 'none';\n",
              "        })();\n",
              "      </script>\n",
              "    </div>\n",
              "\n",
              "  <div id=\"id_aad2c421-5308-4f00-99cf-863df769ecdf\">\n",
              "    <style>\n",
              "      .colab-df-generate {\n",
              "        background-color: #E8F0FE;\n",
              "        border: none;\n",
              "        border-radius: 50%;\n",
              "        cursor: pointer;\n",
              "        display: none;\n",
              "        fill: #1967D2;\n",
              "        height: 32px;\n",
              "        padding: 0 0 0 0;\n",
              "        width: 32px;\n",
              "      }\n",
              "\n",
              "      .colab-df-generate:hover {\n",
              "        background-color: #E2EBFA;\n",
              "        box-shadow: 0px 1px 2px rgba(60, 64, 67, 0.3), 0px 1px 3px 1px rgba(60, 64, 67, 0.15);\n",
              "        fill: #174EA6;\n",
              "      }\n",
              "\n",
              "      [theme=dark] .colab-df-generate {\n",
              "        background-color: #3B4455;\n",
              "        fill: #D2E3FC;\n",
              "      }\n",
              "\n",
              "      [theme=dark] .colab-df-generate:hover {\n",
              "        background-color: #434B5C;\n",
              "        box-shadow: 0px 1px 3px 1px rgba(0, 0, 0, 0.15);\n",
              "        filter: drop-shadow(0px 1px 2px rgba(0, 0, 0, 0.3));\n",
              "        fill: #FFFFFF;\n",
              "      }\n",
              "    </style>\n",
              "    <button class=\"colab-df-generate\" onclick=\"generateWithVariable('icc_result')\"\n",
              "            title=\"Generate code using this dataframe.\"\n",
              "            style=\"display:none;\">\n",
              "\n",
              "  <svg xmlns=\"http://www.w3.org/2000/svg\" height=\"24px\"viewBox=\"0 0 24 24\"\n",
              "       width=\"24px\">\n",
              "    <path d=\"M7,19H8.4L18.45,9,17,7.55,7,17.6ZM5,21V16.75L18.45,3.32a2,2,0,0,1,2.83,0l1.4,1.43a1.91,1.91,0,0,1,.58,1.4,1.91,1.91,0,0,1-.58,1.4L9.25,21ZM18.45,9,17,7.55Zm-12,3A5.31,5.31,0,0,0,4.9,8.1,5.31,5.31,0,0,0,1,6.5,5.31,5.31,0,0,0,4.9,4.9,5.31,5.31,0,0,0,6.5,1,5.31,5.31,0,0,0,8.1,4.9,5.31,5.31,0,0,0,12,6.5,5.46,5.46,0,0,0,6.5,12Z\"/>\n",
              "  </svg>\n",
              "    </button>\n",
              "    <script>\n",
              "      (() => {\n",
              "      const buttonEl =\n",
              "        document.querySelector('#id_aad2c421-5308-4f00-99cf-863df769ecdf button.colab-df-generate');\n",
              "      buttonEl.style.display =\n",
              "        google.colab.kernel.accessAllowed ? 'block' : 'none';\n",
              "\n",
              "      buttonEl.onclick = () => {\n",
              "        google.colab.notebook.generateWithVariable('icc_result');\n",
              "      }\n",
              "      })();\n",
              "    </script>\n",
              "  </div>\n",
              "\n",
              "    </div>\n",
              "  </div>\n"
            ],
            "application/vnd.google.colaboratory.intrinsic+json": {
              "type": "dataframe",
              "variable_name": "icc_result",
              "summary": "{\n  \"name\": \"icc_result\",\n  \"rows\": 6,\n  \"fields\": [\n    {\n      \"column\": \"Type\",\n      \"properties\": {\n        \"dtype\": \"string\",\n        \"num_unique_values\": 6,\n        \"samples\": [\n          \"ICC1\",\n          \"ICC2\",\n          \"ICC3k\"\n        ],\n        \"semantic_type\": \"\",\n        \"description\": \"\"\n      }\n    },\n    {\n      \"column\": \"Description\",\n      \"properties\": {\n        \"dtype\": \"string\",\n        \"num_unique_values\": 6,\n        \"samples\": [\n          \"Single raters absolute\",\n          \"Single random raters\",\n          \"Average fixed raters\"\n        ],\n        \"semantic_type\": \"\",\n        \"description\": \"\"\n      }\n    },\n    {\n      \"column\": \"ICC\",\n      \"properties\": {\n        \"dtype\": \"number\",\n        \"std\": 0.004386457236164887,\n        \"min\": 0.9837347328198324,\n        \"max\": 0.9919923207388918,\n        \"num_unique_values\": 6,\n        \"samples\": [\n          0.9837347328198324,\n          0.9837378238993072,\n          0.9919923207388918\n        ],\n        \"semantic_type\": \"\",\n        \"description\": \"\"\n      }\n    },\n    {\n      \"column\": \"F\",\n      \"properties\": {\n        \"dtype\": \"number\",\n        \"std\": 1.507224698799769,\n        \"min\": 121.96139853384216,\n        \"max\": 124.88012661256415,\n        \"num_unique_values\": 2,\n        \"samples\": [\n          124.88012661256415,\n          121.96139853384216\n        ],\n        \"semantic_type\": \"\",\n        \"description\": \"\"\n      }\n    },\n    {\n      \"column\": \"df1\",\n      \"properties\": {\n        \"dtype\": \"number\",\n        \"std\": 0,\n        \"min\": 153,\n        \"max\": 153,\n        \"num_unique_values\": 1,\n        \"samples\": [\n          153\n        ],\n        \"semantic_type\": \"\",\n        \"description\": \"\"\n      }\n    },\n    {\n      \"column\": \"df2\",\n      \"properties\": {\n        \"dtype\": \"number\",\n        \"std\": 0,\n        \"min\": 153,\n        \"max\": 154,\n        \"num_unique_values\": 2,\n        \"samples\": [\n          153\n        ],\n        \"semantic_type\": \"\",\n        \"description\": \"\"\n      }\n    },\n    {\n      \"column\": \"pval\",\n      \"properties\": {\n        \"dtype\": \"number\",\n        \"std\": 5.493094990097368e-118,\n        \"min\": 4.577212101726282e-117,\n        \"max\": 5.640945372515407e-117,\n        \"num_unique_values\": 2,\n        \"samples\": [\n          4.577212101726282e-117\n        ],\n        \"semantic_type\": \"\",\n        \"description\": \"\"\n      }\n    },\n    {\n      \"column\": \"CI95%\",\n      \"properties\": {\n        \"dtype\": \"object\",\n        \"semantic_type\": \"\",\n        \"description\": \"\"\n      }\n    }\n  ]\n}"
            }
          },
          "metadata": {},
          "execution_count": 11
        }
      ]
    },
    {
      "cell_type": "code",
      "source": [
        "plt.figure(figsize=(8,6))\n",
        "plt.scatter(icc_df['logistic_model'], icc_df['boosted_model'], alpha=0.6)\n",
        "plt.plot([0,1], [0,1], 'r--')  # diagonal line\n",
        "plt.xlabel('Logistic Model Predicted Probability')\n",
        "plt.ylabel('Boosted Model Predicted Probability')\n",
        "plt.title('Scatter Plot of Predicted Probabilities')\n",
        "plt.show()"
      ],
      "metadata": {
        "colab": {
          "base_uri": "https://localhost:8080/",
          "height": 564
        },
        "id": "Wtus8meE0TDL",
        "outputId": "f3941417-436a-4613-a0b6-b1657e7ebecb"
      },
      "execution_count": 23,
      "outputs": [
        {
          "output_type": "display_data",
          "data": {
            "text/plain": [
              "<Figure size 800x600 with 1 Axes>"
            ],
            "image/png": "[encoded data removed]"
          },
          "metadata": {}
        }
      ]
    },
    {
      "cell_type": "markdown",
      "source": [
        "The Intraclass Correlation Coefficient (ICC) values show an exceptionally high level of agreement between the original logistic regression model and the boosted model’s predictions. The ICC values for single raters (ICC1, ICC2, ICC3) are all around 0.98 to 0.98+, indicating excellent reliability and consistency in predicted probabilities across the two models.\n",
        "\n",
        "The average raters’ ICC values (ICC1k, ICC2k, ICC3k) are even higher, close to 0.99, reinforcing that the combined ratings have near-perfect agreement.\n",
        "\n",
        "All ICC estimates are statistically significant (p-values effectively zero), and the narrow 95% confidence intervals ([0.98, 0.99] or [0.99, 0.99]) indicate high precision in these reliability estimates.\n",
        "\n",
        "Overall, these results strongly suggest that the diagnostic predictions are highly stable and reproducible, which is essential for clinical diagnostic reliability."
      ],
      "metadata": {
        "id": "b0qpbodH0eoX"
      }
    },
    {
      "cell_type": "markdown",
      "source": [
        "#Step 8: Bland-altman Plot"
      ],
      "metadata": {
        "id": "1UtkULjAoMoE"
      }
    },
    {
      "cell_type": "markdown",
      "source": [
        "I calculated the mean and difference of predicted probabilities between the original logistic regression model and the boosted model for each test subject. Using these, I computed the mean difference and limits of agreement to assess the range within which most differences lie.\n",
        "\n",
        "I then created a Bland-Altman plot, which visualizes the agreement between the two models by plotting the differences against the means. This plot helps identify any systematic bias and the consistency of differences across the prediction range.\n",
        "\n",
        "The mean difference line near zero and the spread within the limits of agreement indicate strong concordance and minimal bias between the two sets of predictions."
      ],
      "metadata": {
        "id": "sN8WBhbu01IL"
      }
    },
    {
      "cell_type": "code",
      "source": [
        "# Calculate mean and difference between the two raters\n",
        "ba_df = pd.DataFrame({\n",
        "    'mean_score': (rater1_scores + rater2_scores) / 2,\n",
        "    'diff_score': rater1_scores - rater2_scores\n",
        "})\n",
        "\n",
        "# Mean and limits of agreement (±1.96 standard deviations)\n",
        "mean_diff = ba_df['diff_score'].mean()\n",
        "std_diff = ba_df['diff_score'].std()\n",
        "loa_upper = mean_diff + 1.96 * std_diff\n",
        "loa_lower = mean_diff - 1.96 * std_diff\n",
        "\n",
        "# Plot Bland-Altman\n",
        "plt.figure(figsize=(8, 6))\n",
        "plt.scatter(ba_df['mean_score'], ba_df['diff_score'], alpha=0.6)\n",
        "plt.axhline(mean_diff, color='red', linestyle='--', label=f'Mean Diff = {mean_diff:.3f}')\n",
        "plt.axhline(loa_upper, color='gray', linestyle='--', label='Upper LoA')\n",
        "plt.axhline(loa_lower, color='gray', linestyle='--', label='Lower LoA')\n",
        "plt.xlabel('Mean of Logistic and Boosted Model Scores')\n",
        "plt.ylabel('Difference (Logistic - Boosted)')\n",
        "plt.title('Bland-Altman Plot: Model Agreement')\n",
        "plt.legend()\n",
        "plt.grid(True)\n",
        "plt.show()\n"
      ],
      "metadata": {
        "colab": {
          "base_uri": "https://localhost:8080/",
          "height": 564
        },
        "id": "e1i9dCxYoQtt",
        "outputId": "c5399991-753e-438d-938a-19da76723cec"
      },
      "execution_count": 24,
      "outputs": [
        {
          "output_type": "display_data",
          "data": {
            "text/plain": [
              "<Figure size 800x600 with 1 Axes>"
            ],
            "image/png": "[encoded data removed]"
          },
          "metadata": {}
        }
      ]
    },
    {
      "cell_type": "markdown",
      "source": [
        "**Summary Analysis**\n",
        "\n",
        "Overall Agreement: The plot demonstrates good agreement between the two models. The data points are scattered fairly evenly around the mean difference line, indicating that there isn't a systematic disagreement that changes with the magnitude of the score.\n",
        "\n",
        "Bias (Mean Difference): The mean difference between the two models is -0.011. This value is very close to zero, which means there is negligible systematic bias. On average, neither model consistently produces higher or lower scores than the other. The logistic model's scores are, on average, just 0.011 lower than the boosted model's scores.\n",
        "\n",
        "Limits of Agreement (LoA): The gray dashed lines represent the 95% limits of agreement. This means that for any given prediction, the difference between the two models' scores is expected to fall within this range (approximately -0.11 to +0.09) 95% of the time. This range quantifies the random error or variability between the models. Whether this level of variability is acceptable depends on the specific requirements of the prediction task.\n",
        "\n",
        "Conclusion\n",
        "The two models (Logistic and Boosted) produce highly comparable results. They can be considered to agree well with each other, showing minimal systematic bias and a consistent pattern of random error across the full range of prediction scores. This suggests that either model could potentially be used to achieve similar predictive outcomes."
      ],
      "metadata": {
        "id": "hOxfl1101tSE"
      }
    },
    {
      "cell_type": "markdown",
      "source": [
        "# ROC Curves, AUC, and Classification Thresholds"
      ],
      "metadata": {
        "id": "gKs6Qezbo2cu"
      }
    },
    {
      "cell_type": "markdown",
      "source": [
        "# Step 9 : Predicted Probabilities"
      ],
      "metadata": {
        "id": "5NxzdFpnpoDW"
      }
    },
    {
      "cell_type": "code",
      "source": [
        "y_prob_logistic = rater1_scores  # from 1st model\n",
        "y_prob_boosted = rater2_scores   # from resampled model"
      ],
      "metadata": {
        "id": "GbKOg2I-2iwP"
      },
      "execution_count": 25,
      "outputs": []
    },
    {
      "cell_type": "markdown",
      "source": [
        "In this step, I compared the discriminative performance of the original logistic regression model and the boosted model by plotting their ROC curves. I used the predicted probabilities from both models to calculate the true positive rate (TPR) and false positive rate (FPR) at various thresholds.\n",
        "\n",
        "I also computed the AUC (Area Under the Curve) for each model. The AUC provides a single metric to summarize the model's ability to distinguish between diabetic and non-diabetic cases; the higher the AUC, the better the model performs.\n",
        "\n",
        "Finally, I visualized both ROC curves on the same plot. This side-by-side comparison allowed me to assess whether the resampled (boosted) model improved, matched, or underperformed compared to the original logistic regression model."
      ],
      "metadata": {
        "id": "0h3dL778CXrv"
      }
    },
    {
      "cell_type": "code",
      "source": [
        "# Compute FPR, TPR for both models\n",
        "fpr_log, tpr_log, _ = roc_curve(y_test, y_prob_logistic)\n",
        "fpr_boost, tpr_boost, _ = roc_curve(y_test, y_prob_boosted)\n",
        "\n",
        "# AUC values\n",
        "auc_log = roc_auc_score(y_test, y_prob_logistic)\n",
        "auc_boost = roc_auc_score(y_test, y_prob_boosted)\n",
        "\n",
        "# Plot ROC\n",
        "plt.figure(figsize=(8, 6))\n",
        "plt.plot(fpr_log, tpr_log, label=f'Logistic Model (AUC = {auc_log:.2f})')\n",
        "plt.plot(fpr_boost, tpr_boost, label=f'Boosted Model (AUC = {auc_boost:.2f})')\n",
        "plt.plot([0, 1], [0, 1], 'k--', label='Chance')\n",
        "plt.xlabel('False Positive Rate')\n",
        "plt.ylabel('True Positive Rate')\n",
        "plt.title('ROC Curves: Logistic vs Boosted Model')\n",
        "plt.legend()\n",
        "plt.grid(True)\n",
        "plt.show()\n"
      ],
      "metadata": {
        "colab": {
          "base_uri": "https://localhost:8080/",
          "height": 564
        },
        "id": "Mu3L6yyQ4y1b",
        "outputId": "44df2615-566d-4518-ad9d-1fc16d1a142d"
      },
      "execution_count": 26,
      "outputs": [
        {
          "output_type": "display_data",
          "data": {
            "text/plain": [
              "<Figure size 800x600 with 1 Axes>"
            ],
            "image/png": "[encoded data removed]"
          },
          "metadata": {}
        }
      ]
    },
    {
      "cell_type": "markdown",
      "source": [
        "**Analysis Summary**\n",
        "This plot compares the performance of a Logistic Regression model and a Boosted model using their respective ROC curves.\n",
        "\n",
        "The key finding from this graph is that both models demonstrate identical overall performance.\n",
        "\n",
        "Performance Metrics: The Area Under the Curve (AUC), which measures the ability of a model to distinguish between classes, is calculated for both.\n",
        "\n",
        "Logistic Model AUC = 0.82\n",
        "\n",
        "Boosted Model AUC = 0.82\n",
        "\n",
        "Interpretation:\n",
        "\n",
        "Both models have an AUC of 0.82, which indicates strong predictive capability, significantly better than random chance (the dashed line at AUC = 0.5).\n",
        "\n",
        "Crucially, their AUC scores are exactly the same. This means that, when averaged across all possible classification thresholds, the two models have the exact same power to discriminate between the positive and negative classes.\n",
        "\n",
        "Visual Comparison: The blue (Logistic) and orange (Boosted) curves are very close and cross over each other multiple times. This shows that while one model might be slightly better at certain thresholds, the other is better at different thresholds, leading to an identical overall performance score.\n",
        "\n",
        "**Conclusion**\n",
        "Based on this output, the Logistic Model and the Boosted Model are equally effective for this prediction task. Since the more complex Boosted Model offers no performance advantage over the simpler Logistic Regression model, the Logistic Model would likely be the preferred choice due to its greater simplicity, faster computation, and easier interpretability."
      ],
      "metadata": {
        "id": "RdiQaq_mCl85"
      }
    },
    {
      "cell_type": "markdown",
      "source": [
        "# Step 10: Find Optimal Threshold via Youden’s J Statistic\n"
      ],
      "metadata": {
        "id": "bruhs5KS42KJ"
      }
    },
    {
      "cell_type": "markdown",
      "source": [
        "To improve classification decisions beyond the default 0.5 threshold, I calculated the optimal cutoff point for both models using Youden’s J statistic. This method helps identify the threshold that best separates positive from negative cases by maximizing the difference between the true positive rate and the false positive rate.\n",
        "\n",
        "I extracted the thresholds from the ROC curves and computed the Youden Index for each. The threshold with the highest index was selected as the optimal point for each model.\n",
        "\n",
        "This step ensures that I’m using the most effective threshold for classification, tailored to my model's ROC performance rather than relying on arbitrary defaults."
      ],
      "metadata": {
        "id": "LFsJQNnxDaFG"
      }
    },
    {
      "cell_type": "code",
      "source": [
        "# Get thresholds from ROC\n",
        "fpr_log, tpr_log, thresholds_log = roc_curve(y_test, y_prob_logistic)\n",
        "youden_index_log = tpr_log - fpr_log\n",
        "optimal_idx_log = np.argmax(youden_index_log)\n",
        "optimal_threshold_log = thresholds_log[optimal_idx_log]\n",
        "\n",
        "print(f\"Optimal Threshold (Logistic Model): {optimal_threshold_log:.2f}\")\n",
        "\n",
        "# Same for Boosted\n",
        "fpr_boost, tpr_boost, thresholds_boost = roc_curve(y_test, y_prob_boosted)\n",
        "youden_index_boost = tpr_boost - fpr_boost\n",
        "optimal_idx_boost = np.argmax(youden_index_boost)\n",
        "optimal_threshold_boost = thresholds_boost[optimal_idx_boost]\n",
        "\n",
        "print(f\"Optimal Threshold (Boosted Model): {optimal_threshold_boost:.2f}\")\n"
      ],
      "metadata": {
        "colab": {
          "base_uri": "https://localhost:8080/"
        },
        "id": "IGU5qURi43D9",
        "outputId": "d6663b6b-4d3d-463e-e546-d80dc451b740"
      },
      "execution_count": 27,
      "outputs": [
        {
          "output_type": "stream",
          "name": "stdout",
          "text": [
            "Optimal Threshold (Logistic Model): 0.25\n",
            "Optimal Threshold (Boosted Model): 0.19\n"
          ]
        }
      ]
    },
    {
      "cell_type": "markdown",
      "source": [
        "After recalculating using Youden’s J statistic, I found the optimal threshold for the logistic regression model to be 0.25, and for the boosted model, it was 0.19. These values are well below the standard threshold of 0.5, indicating that both models need a lower cutoff to better identify diabetic cases.\n",
        "\n",
        "This outcome implies that:\n",
        "\n",
        "At the default threshold of 0.5, the models may be too strict, leading to missed diagnoses (false negatives).\n",
        "\n",
        "Adjusting the threshold to 0.25 or 0.19 increases the models' sensitivity, which is vital in a medical setting where identifying all possible cases is often prioritized over avoiding false positives.\n",
        "\n",
        "These optimized thresholds reflect a more clinically cautious approach, improving early detection of diabetes at the cost of some false alarms which is a trade-off often acceptable in healthcare."
      ],
      "metadata": {
        "id": "RBpY-Ov-DliF"
      }
    },
    {
      "cell_type": "markdown",
      "source": [
        "# Step 11: Recalculate metrics at Optimal Thresholds"
      ],
      "metadata": {
        "id": "xSv4alml47mK"
      }
    },
    {
      "cell_type": "markdown",
      "source": [
        "In this step, I applied the optimal thresholds identified for both the logistic and boosted models to convert predicted probabilities into binary class labels. By doing this, I moved beyond the default 0.5 threshold and tailored the classification decision to each model’s performance characteristics.\n",
        "\n",
        "I then recalculated the confusion matrices and classification reports at these optimized cutoffs to evaluate how the new thresholds impact metrics like precision, recall, and F1-score.\n",
        "\n",
        "This approach helps assess whether tuning the threshold improves sensitivity and overall diagnostic value, especially in detecting positive (diabetic) cases that may have been missed at the default threshold."
      ],
      "metadata": {
        "id": "JxkFNRqAEMO0"
      }
    },
    {
      "cell_type": "code",
      "source": [
        "# Apply optimal thresholds\n",
        "y_pred_opt_log = (y_prob_logistic >= optimal_threshold_log).astype(int)\n",
        "y_pred_opt_boost = (y_prob_boosted >= optimal_threshold_boost).astype(int)\n",
        "\n",
        "# Confusion matrices\n",
        "print(\"Logistic Model Confusion Matrix at Optimal Threshold:\")\n",
        "print(confusion_matrix(y_test, y_pred_opt_log))\n",
        "\n",
        "print(\"\\nBoosted Model Confusion Matrix at Optimal Threshold:\")\n",
        "print(confusion_matrix(y_test, y_pred_opt_boost))\n",
        "\n",
        "# Classification reports\n",
        "print(\"\\nLogistic Model Report:\")\n",
        "print(classification_report(y_test, y_pred_opt_log))\n",
        "\n",
        "print(\"\\nBoosted Model Report:\")\n",
        "print(classification_report(y_test, y_pred_opt_boost))"
      ],
      "metadata": {
        "colab": {
          "base_uri": "https://localhost:8080/"
        },
        "id": "v7t33cGw49W1",
        "outputId": "8e0c0b5b-3743-4479-e215-4d9dee191290"
      },
      "execution_count": 28,
      "outputs": [
        {
          "output_type": "stream",
          "name": "stdout",
          "text": [
            "Logistic Model Confusion Matrix at Optimal Threshold:\n",
            "[[66 34]\n",
            " [ 6 48]]\n",
            "\n",
            "Boosted Model Confusion Matrix at Optimal Threshold:\n",
            "[[58 42]\n",
            " [ 2 52]]\n",
            "\n",
            "Logistic Model Report:\n",
            "              precision    recall  f1-score   support\n",
            "\n",
            "           0       0.92      0.66      0.77       100\n",
            "           1       0.59      0.89      0.71        54\n",
            "\n",
            "    accuracy                           0.74       154\n",
            "   macro avg       0.75      0.77      0.74       154\n",
            "weighted avg       0.80      0.74      0.75       154\n",
            "\n",
            "\n",
            "Boosted Model Report:\n",
            "              precision    recall  f1-score   support\n",
            "\n",
            "           0       0.97      0.58      0.72       100\n",
            "           1       0.55      0.96      0.70        54\n",
            "\n",
            "    accuracy                           0.71       154\n",
            "   macro avg       0.76      0.77      0.71       154\n",
            "weighted avg       0.82      0.71      0.72       154\n",
            "\n"
          ]
        }
      ]
    },
    {
      "cell_type": "markdown",
      "source": [
        "**Recalculated Metrics at Optimal Thresholds-Analysis**\n",
        "\n",
        "After applying the optimal thresholds (0.25 for the logistic model and 0.19 for the boosted model), both models showed significant improvements in recall for the positive class (diabetes = 1), which is a critical metric in clinical diagnostics.\n",
        "\n",
        "Logistic Model Analysis\n",
        "Recall for diabetic cases (class 1) improved to 0.89, meaning it correctly identified 48 out of 54 diabetic patients.\n",
        "\n",
        "Precision for class 1 is 0.59, indicating that 59% of the predicted positives were actually diabetic.\n",
        "\n",
        "The trade-off is a drop in precision and a noticeable increase in false positives (34 non-diabetics misclassified as diabetic).\n",
        "\n",
        "Overall accuracy is 74%, and the macro F1-score is 0.74, showing a balanced gain in sensitivity while retaining decent performance on the negative class.\n",
        "\n",
        "Boosted Model Analysis\n",
        "Recall for class 1 increased even further to 0.96. Only 2 diabetic cases were missed, which is excellent in a medical context.\n",
        "\n",
        "Precision for class 1 is slightly lower at 0.55, reflecting more false positives (42 non-diabetics misclassified).\n",
        "\n",
        "The boosted model also had the highest recall but slightly lower accuracy (71%) due to the increased false positive rate.\n",
        "\n",
        "Despite this, its macro average recall and precision remain comparable, showing strong consistency across both classes.\n",
        "\n",
        "**Key Takeaways**\n",
        "\n",
        "Both models benefited from threshold tuning, especially in detecting diabetic patients.\n",
        "\n",
        "The boosted model is more aggressive, catching nearly all diabetics at the cost of more false alarms, a desirable trait in screening scenarios.\n",
        "\n",
        "The logistic model is slightly more balanced, with fewer false positives but slightly lower recall."
      ],
      "metadata": {
        "id": "E0pxU666EagW"
      }
    },
    {
      "cell_type": "markdown",
      "source": [
        "### Tools Used\n",
        "\n",
        "* Python (pandas, scikit-learn, matplotlib, seaborn, pingouin, statsmodels)\n",
        "\n",
        "---\n",
        "\n",
        "### Skills Highlighted\n",
        "\n",
        "* Test-retest reliability assessment\n",
        "* Agreement analysis with ICC and Bland-Altman\n",
        "* ROC curve interpretation\n",
        "* Statistical reporting and reproducibility in Python\n",
        "\n",
        "---\n",
        "\n",
        "In this project, I had evaluated the diagnostic reliability and stability of models predicting diabetes using the Pima Indians Diabetes Dataset.\n",
        "\n",
        "Model Training: I trained a baseline logistic regression model and a resampled version (boosted model) to simulate repeated diagnostic tests.\n",
        "\n",
        "Initial Evaluation: ROC curves and AUC scores (≈ 0.82) indicated strong discrimination, particularly for detecting diabetic (positive) cases.\n",
        "\n",
        "### Stability Assessment:\n",
        "\n",
        "I have calculated the Intraclass Correlation Coefficient (ICC) between predicted probabilities of both models. The ICC > 0.98 indicated excellent agreement and repeatability.\n",
        "\n",
        "The Bland-Altman plot revealed minimal bias and narrow limits of agreement, confirming high consistency between the two prediction rounds.\n",
        "\n",
        "Optimal Thresholds: Using Youden’s J statistic, I determined optimal probability cutoffs-0.25 for the logistic model and 0.19 for the boosted model, which improved sensitivity.\n",
        "\n",
        "### Performance at Optimal Thresholds:\n",
        "\n",
        "The logistic model achieved 89% recall with 74% accuracy, favoring balanced classification.\n",
        "\n",
        "The boosted model achieved 96% recall with slightly lower precision, emphasizing detection of positives even at the cost of more false positives.\n",
        "\n",
        "---\n",
        "\n",
        "### Conclusion\n",
        "Both models demonstrated excellent diagnostic reliability and consistent predictions, as shown by high ICC values and stable Bland-Altman agreement. Their improved sensitivity at optimized thresholds makes them suitable for early diabetes screening, where identifying true positives is crucial. While increased false positives were observed, this is an acceptable trade-off in medical settings, provided follow-up testing is in place.\n",
        "\n",
        "---\n",
        "\n",
        "### Future Scope\n",
        "\n",
        "This project provides a framework for evaluating diagnostic model consistency, which is critical in healthcare applications. Future directions could involve using more granular temporal datasets, testing multiple models for comparative stability, or integrating probabilistic confidence measures to better reflect diagnostic uncertainty in clinical deployment.\n"
      ],
      "metadata": {
        "id": "safuYUZyisaO"
      }
    }
  ]
}